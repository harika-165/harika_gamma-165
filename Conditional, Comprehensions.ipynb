{
 "cells": [
  {
   "cell_type": "markdown",
   "id": "6efd6c0d-41dc-4583-90c0-3baa9631556b",
   "metadata": {},
   "source": [
    "#Nested if, else"
   ]
  },
  {
   "cell_type": "code",
   "execution_count": 35,
   "id": "2a7e569d-bc1f-42cc-8810-e72e8b5bf927",
   "metadata": {},
   "outputs": [
    {
     "name": "stdout",
     "output_type": "stream",
     "text": [
      "Zero\n"
     ]
    }
   ],
   "source": [
    "num=0\n",
    "result = \"Positive\" if num>0 else (\"Negative\" if num<0 else \"Zero\")\n",
    "print(result)"
   ]
  },
  {
   "cell_type": "markdown",
   "id": "8e57aeb6-eb35-40d3-8657-fd1750936a02",
   "metadata": {},
   "source": [
    "#List Comprehension"
   ]
  },
  {
   "cell_type": "code",
   "execution_count": 37,
   "id": "35915fbc-5bee-4ae5-817c-d8d25d71f401",
   "metadata": {},
   "outputs": [
    {
     "data": {
      "text/plain": [
       "[2, 4, 6, 6, 8]"
      ]
     },
     "execution_count": 37,
     "metadata": {},
     "output_type": "execute_result"
    }
   ],
   "source": [
    "L=[1,2,3,3,4]\n",
    "[2*x for x in L]"
   ]
  },
  {
   "cell_type": "markdown",
   "id": "c3431c2e-f521-4076-b384-49039bd9c7c7",
   "metadata": {},
   "source": [
    "#List Comprehension with conditional execution"
   ]
  },
  {
   "cell_type": "code",
   "execution_count": 41,
   "id": "09471d08-cf1e-4a7e-a7f8-d5f4f0e6a835",
   "metadata": {},
   "outputs": [
    {
     "data": {
      "text/plain": [
       "[6, 90, 66]"
      ]
     },
     "execution_count": 41,
     "metadata": {},
     "output_type": "execute_result"
    }
   ],
   "source": [
    "#to print even numbers\n",
    "L=[1,3,5,89,6,87,90,66]\n",
    "[x for x in L if x%2==0]"
   ]
  },
  {
   "cell_type": "code",
   "execution_count": 43,
   "id": "5d1c9594-a31f-4261-a9aa-a24b5afd2ef6",
   "metadata": {},
   "outputs": [
    {
     "data": {
      "text/plain": [
       "[1, 3, 5, 7, 9]"
      ]
     },
     "execution_count": 43,
     "metadata": {},
     "output_type": "execute_result"
    }
   ],
   "source": [
    "#to print odd numbers\n",
    "L=[1,2,3,4,5,6,7,8,9]\n",
    "[x for x in L if x%2!=0]"
   ]
  },
  {
   "cell_type": "markdown",
   "id": "523fa518-d765-4207-b69d-cc66b98ccdf1",
   "metadata": {},
   "source": [
    "#Dictionary Comprehension"
   ]
  },
  {
   "cell_type": "code",
   "execution_count": 49,
   "id": "3b2a2771-e716-465d-a78f-003e70e7f1b6",
   "metadata": {},
   "outputs": [
    {
     "data": {
      "text/plain": [
       "{'Ram': [1, 2, 3, 4, 5], 'John': [9, 8, 7, 66, 6]}"
      ]
     },
     "execution_count": 49,
     "metadata": {},
     "output_type": "execute_result"
    }
   ],
   "source": [
    "d1={\"Ram\":[1,2,3,4,5], \"John\":[9,8,7,66,6]}\n",
    "d1"
   ]
  },
  {
   "cell_type": "code",
   "execution_count": 57,
   "id": "983e6e16-07f8-4ba1-bf67-43d9c3612018",
   "metadata": {},
   "outputs": [
    {
     "data": {
      "text/plain": [
       "{'Ram': 3.0, 'John': 19.2}"
      ]
     },
     "execution_count": 57,
     "metadata": {},
     "output_type": "execute_result"
    }
   ],
   "source": [
    "{k:sum(v)/len(v) for k,v in d1.items()}"
   ]
  },
  {
   "cell_type": "code",
   "execution_count": null,
   "id": "4103b9d1-30cc-4283-93eb-ebba5a8465d6",
   "metadata": {},
   "outputs": [],
   "source": []
  }
 ],
 "metadata": {
  "kernelspec": {
   "display_name": "Python [conda env:base] *",
   "language": "python",
   "name": "conda-base-py"
  },
  "language_info": {
   "codemirror_mode": {
    "name": "ipython",
    "version": 3
   },
   "file_extension": ".py",
   "mimetype": "text/x-python",
   "name": "python",
   "nbconvert_exporter": "python",
   "pygments_lexer": "ipython3",
   "version": "3.12.7"
  }
 },
 "nbformat": 4,
 "nbformat_minor": 5
}
