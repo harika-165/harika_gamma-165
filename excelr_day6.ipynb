{
 "cells": [
  {
   "cell_type": "markdown",
   "id": "ba1817ba-66b1-4ff6-8fba-acafbe51e993",
   "metadata": {},
   "source": [
    "#Using the Pandas library, perform the following tasks:\n",
    "\n",
    "# 1. Create a DataFrame from the following data:\n",
    "   | Name     | Age | Department   | Salary  |\n",
    "   |----------|-----|--------------|---------|\n",
    "   | John     | 28  | HR           | 45000   |\n",
    "   | Alice    | 34  | IT           | 60000   |\n",
    "   | Bob      | 23  | Marketing    | 35000   |\n",
    "   | Diana    | 29  | Finance      | 50000   |"
   ]
  },
  {
   "cell_type": "code",
   "execution_count": 4,
   "id": "4d75de1e-8d94-44b1-ba98-a8e47df2e75b",
   "metadata": {},
   "outputs": [
    {
     "name": "stdout",
     "output_type": "stream",
     "text": [
      "First 2 rows:\n",
      "    Name  Age Department  Salary\n",
      "0   John   28         HR   45000\n",
      "1  Alice   34         IT   60000\n",
      "\n",
      "Average Salary: 47500.0\n",
      "\n",
      "Employees older than 25:\n",
      "    Name  Age Department  Salary   Bonus\n",
      "0   John   28         HR   45000  4500.0\n",
      "1  Alice   34         IT   60000  6000.0\n",
      "3  Diana   29    Finance   50000  5000.0\n"
     ]
    }
   ],
   "source": [
    "import pandas as pd\n",
    "data = {\n",
    "    \"Name\": [\"John\", \"Alice\", \"Bob\", \"Diana\"],\n",
    "    \"Age\": [28, 34, 23, 29],\n",
    "    \"Departmet\": [\"HR\", \"IT\", \"Marketing\", \"Finance\"],\n",
    "    \"Salary\": [45000, 60000, 35000, 50000]\n",
    "}\n",
    "\n",
    "df = pd.DataFrame(data)\n",
    "print(\"First 2 rows:\")\n",
    "print(df.head(2))\n",
    "df['Bonus'] = df['Salary'] * 0.10\n",
    "average_salary = df['Salary'].mean()\n",
    "print(\"\\nAverage Salary:\", average_salary)\n",
    "older_than_25 = df[df['Age'] > 25]\n",
    "print(\"\\nEmployees older than 25:\")\n",
    "print(older_than_25)\n"
   ]
  },
  {
   "cell_type": "markdown",
   "id": "f59c50ef-502e-4eb4-9c35-d58f941b5f8d",
   "metadata": {},
   "source": [
    "# 2.Write code to:\n",
    "\n",
    "  Display the first 2 rows of the DataFrame.\n",
    "  Add a new column named Bonus where the bonus is 10% of the salary.\n",
    "  Calculate the average salary of employees in the DataFrame.\n",
    "  Filter and display employees who are older than 25."
   ]
  },
  {
   "cell_type": "code",
   "execution_count": null,
   "id": "3141ff9f-4138-43a2-9a99-a88826810c59",
   "metadata": {},
   "outputs": [],
   "source": [
    "import pandas as pd\n",
    "data = {\n",
    "    'EmployeeID': [1, 2, 3, 4, 5],\n",
    "    'Name': ['Alice', 'Bob', 'Charlie', 'David', 'Eve'],\n",
    "    'Age': [24, 30, 35, 22, 28],\n",
    "    'Salary': [50000, 60000, 70000, 55000, 65000]\n",
    "}\n",
    "df = pd.DataFrame(data)\n",
    "print(\"First 2 rows of the DataFrame:\")\n",
    "print(df.head(2))\n",
    "df['Bonus'] = df['Salary'] * 0.10\n",
    "print(\"\\nUpdated DataFrame with Bonus:\")\n",
    "print(df)\n",
    "average_salary = df['Salary'].mean()\n",
    "print(\"\\nAverage Salary of Employees:\", average_salary)\n",
    "filtered_employees = df[df['Age'] > 25]\n",
    "print(\"\\nEmployees older than 25:\")\n",
    "print(filtered_employees)\n"
   ]
  }
 ],
 "metadata": {
  "kernelspec": {
   "display_name": "Python [conda env:base] *",
   "language": "python",
   "name": "conda-base-py"
  },
  "language_info": {
   "codemirror_mode": {
    "name": "ipython",
    "version": 3
   },
   "file_extension": ".py",
   "mimetype": "text/x-python",
   "name": "python",
   "nbconvert_exporter": "python",
   "pygments_lexer": "ipython3",
   "version": "3.12.7"
  }
 },
 "nbformat": 4,
 "nbformat_minor": 5
}
