{
 "cells": [
  {
   "cell_type": "markdown",
   "id": "e643a765-a33a-4d96-ba7e-21e9efe7b098",
   "metadata": {},
   "source": [
    "#Write a program in Jupyter Notebook to declare variables of different data types (integer, float, string, and boolean). Print each variable and its type."
   ]
  },
  {
   "cell_type": "code",
   "execution_count": 1,
   "id": "5416fd5d-fead-431e-9397-f11400d7ea25",
   "metadata": {},
   "outputs": [
    {
     "name": "stdout",
     "output_type": "stream",
     "text": [
      "Integer Variable: 165, Type: <class 'int'>\n",
      "Float Variable: 10.09, Type: <class 'float'>\n",
      "String Variable: Welcome to MRU, Type: <class 'str'>\n",
      "Boolean Variable: False, Type: <class 'bool'>\n"
     ]
    }
   ],
   "source": [
    "a = 165                # Integer type\n",
    "b = 10.09                # Float type\n",
    "c = \"Welcome to MRU\"    # String type\n",
    "d = False              # Boolean type\n",
    "print(f\"Integer: {a}, Type: {type(a)}\")\n",
    "print(f\"Float: {b}, Type: {type(b)}\")\n",
    "print(f\"String: {c}, Type: {type(c)}\")\n",
    "print(f\"Boolean Variable: {d}, Type: {type(d)}\")\n"
   ]
  },
  {
   "cell_type": "code",
   "execution_count": null,
   "id": "63d4b620-c3e2-45ae-8bd8-d0c15f8e0554",
   "metadata": {},
   "outputs": [],
   "source": []
  }
 ],
 "metadata": {
  "kernelspec": {
   "display_name": "Python [conda env:base] *",
   "language": "python",
   "name": "conda-base-py"
  },
  "language_info": {
   "codemirror_mode": {
    "name": "ipython",
    "version": 3
   },
   "file_extension": ".py",
   "mimetype": "text/x-python",
   "name": "python",
   "nbconvert_exporter": "python",
   "pygments_lexer": "ipython3",
   "version": "3.12.7"
  }
 },
 "nbformat": 4,
 "nbformat_minor": 5
}
