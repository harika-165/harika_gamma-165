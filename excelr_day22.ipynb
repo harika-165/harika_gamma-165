{
 "cells": [
  {
   "cell_type": "markdown",
   "id": "8aeee5c6-606c-4a89-99a4-93620e3b1081",
   "metadata": {},
   "source": [
    "Part 2: Simple Linear Regression\n",
    "Fit a simple linear regression model where Building Height is the independent variable and Construction Cost is the dependent variable.\n",
    "What is the equation of the regression line?\n",
    "Interpret the coefficient: How does Building Height impact Construction Cost?\n",
    "Evaluate model performance using R-squared and Mean Squared Error (MSE).\n"
   ]
  },
  {
   "cell_type": "code",
   "execution_count": 24,
   "id": "219def82-5bc8-48ac-8777-8cbb40ff9ac7",
   "metadata": {},
   "outputs": [
    {
     "name": "stdout",
     "output_type": "stream",
     "text": [
      "                            OLS Regression Results                            \n",
      "==============================================================================\n",
      "Dep. Variable:      Construction_Cost   R-squared:                       0.915\n",
      "Model:                            OLS   Adj. R-squared:                  0.915\n",
      "Method:                 Least Squares   F-statistic:                     1061.\n",
      "Date:                Wed, 05 Feb 2025   Prob (F-statistic):           2.29e-54\n",
      "Time:                        11:26:10   Log-Likelihood:                -673.35\n",
      "No. Observations:                 100   AIC:                             1351.\n",
      "Df Residuals:                      98   BIC:                             1356.\n",
      "Df Model:                           1                                         \n",
      "Covariance Type:            nonrobust                                         \n",
      "===================================================================================\n",
      "                      coef    std err          t      P>|t|      [0.025      0.975]\n",
      "-----------------------------------------------------------------------------------\n",
      "const             994.0260     45.254     21.966      0.000     904.222    1083.830\n",
      "Building_Height    50.2073      1.542     32.567      0.000      47.148      53.267\n",
      "==============================================================================\n",
      "Omnibus:                        7.560   Durbin-Watson:                   2.168\n",
      "Prob(Omnibus):                  0.023   Jarque-Bera (JB):                3.077\n",
      "Skew:                           0.027   Prob(JB):                        0.215\n",
      "Kurtosis:                       2.142   Cond. No.                         64.7\n",
      "==============================================================================\n",
      "\n",
      "Notes:\n",
      "[1] Standard Errors assume that the covariance matrix of the errors is correctly specified.\n",
      "Equation of the regression line: Construction Cost = 994.03 + 50.21 * Building Height\n",
      "R-squared: 0.92\n",
      "Mean Squared Error: 41323.45\n",
      "\n",
      "Interpretation:\n",
      "For every one unit increase in Building Height, the Construction Cost is predicted to increase by 50.21 units (on average).\n",
      "The model explains a significant portion of the variance in Construction Cost.\n",
      "The Mean Squared Error of 41323.45 represents the average squared difference between the predicted and actual Construction Costs. Lower MSE values indicate a better fit.\n"
     ]
    },
    {
     "name": "stderr",
     "output_type": "stream",
     "text": [
      "C:\\Users\\dhari\\AppData\\Local\\Temp\\ipykernel_32572\\3096221602.py:26: FutureWarning: Series.__getitem__ treating keys as positions is deprecated. In a future version, integer keys will always be treated as labels (consistent with DataFrame behavior). To access a value by position, use `ser.iloc[pos]`\n",
      "  intercept = model.params[0]\n",
      "C:\\Users\\dhari\\AppData\\Local\\Temp\\ipykernel_32572\\3096221602.py:27: FutureWarning: Series.__getitem__ treating keys as positions is deprecated. In a future version, integer keys will always be treated as labels (consistent with DataFrame behavior). To access a value by position, use `ser.iloc[pos]`\n",
      "  slope = model.params[1]\n"
     ]
    }
   ],
   "source": [
    "import pandas as pd\n",
    "import statsmodels.api as sm\n",
    "from sklearn.metrics import mean_squared_error\n",
    "\n",
    "# 1. Load the data\n",
    "try:\n",
    "    df = pd.read_csv(\"construction_cost_data.csv\")\n",
    "except FileNotFoundError:\n",
    "    print(\"Error: 'construction_cost_data.csv' not found. Please ensure the file exists in the correct directory.\")\n",
    "    exit() # Exit the script if the file is not found.\n",
    "\n",
    "# 2. Define independent (X) and dependent (y) variables\n",
    "X = df[\"Building_Height\"]  # Independent variable\n",
    "y = df[\"Construction_Cost\"] # Dependent variable\n",
    "\n",
    "# 3. Add a constant to the independent variable (intercept term)\n",
    "X = sm.add_constant(X)\n",
    "\n",
    "# 4. Fit the linear regression model\n",
    "model = sm.OLS(y, X).fit()\n",
    "\n",
    "# 5. Print the model summary (includes coefficients, R-squared, etc.)\n",
    "print(model.summary())\n",
    "\n",
    "# 6. Extract the coefficients (for the equation)\n",
    "intercept = model.params[0]\n",
    "slope = model.params[1]\n",
    "\n",
    "print(f\"Equation of the regression line: Construction Cost = {intercept:.2f} + {slope:.2f} * Building Height\")\n",
    "\n",
    "# 7. Evaluate the model (R-squared and MSE)\n",
    "y_predicted = model.predict(X)\n",
    "r_squared = model.rsquared\n",
    "mse = mean_squared_error(y, y_predicted)\n",
    "\n",
    "print(f\"R-squared: {r_squared:.2f}\")\n",
    "print(f\"Mean Squared Error: {mse:.2f}\")\n",
    "\n",
    "\n",
    "# 8. Interpretation (example - adapt based on your actual results)\n",
    "print(\"\\nInterpretation:\")\n",
    "print(f\"For every one unit increase in Building Height, the Construction Cost is predicted to increase by {slope:.2f} units (on average).\")\n",
    "\n",
    "if r_squared > 0.7: # Example threshold - adjust as needed\n",
    "    print(\"The model explains a significant portion of the variance in Construction Cost.\")\n",
    "elif r_squared > 0.5:\n",
    "    print(\"The model explains a moderate portion of the variance in Construction Cost.\")\n",
    "else:\n",
    "    print(\"The model explains a limited portion of the variance in Construction Cost.\")\n",
    "\n",
    "\n",
    "print(f\"The Mean Squared Error of {mse:.2f} represents the average squared difference between the predicted and actual Construction Costs. Lower MSE values indicate a better fit.\")"
   ]
  },
  {
   "cell_type": "code",
   "execution_count": null,
   "id": "cc3c6be3-2d29-4a3f-bcfc-53002d6efb69",
   "metadata": {},
   "outputs": [],
   "source": []
  }
 ],
 "metadata": {
  "kernelspec": {
   "display_name": "Python [conda env:base] *",
   "language": "python",
   "name": "conda-base-py"
  },
  "language_info": {
   "codemirror_mode": {
    "name": "ipython",
    "version": 3
   },
   "file_extension": ".py",
   "mimetype": "text/x-python",
   "name": "python",
   "nbconvert_exporter": "python",
   "pygments_lexer": "ipython3",
   "version": "3.12.7"
  }
 },
 "nbformat": 4,
 "nbformat_minor": 5
}
