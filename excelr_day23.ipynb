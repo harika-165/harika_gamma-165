{
 "cells": [
  {
   "cell_type": "markdown",
   "id": "7adb4406-defe-484f-9297-604346494190",
   "metadata": {},
   "source": [
    "Part 3: Multiple Linear Regression\n",
    "Fit a multiple linear regression model using Building Height, Material Quality, Labor Cost, Concrete Strength, and Foundation Depth as independent variables.\n",
    "- What is the equation of the multiple regression model?\n",
    "- Which independent variable has the highest impact on Construction Cost based on the regression coefficients?\n"
   ]
  },
  {
   "cell_type": "code",
   "execution_count": 14,
   "id": "cc3c6be3-2d29-4a3f-bcfc-53002d6efb69",
   "metadata": {},
   "outputs": [
    {
     "name": "stdout",
     "output_type": "stream",
     "text": [
      "                            OLS Regression Results                            \n",
      "==============================================================================\n",
      "Dep. Variable:      Construction_Cost   R-squared:                       1.000\n",
      "Model:                            OLS   Adj. R-squared:                  1.000\n",
      "Method:                 Least Squares   F-statistic:                 9.153e+04\n",
      "Date:                Thu, 06 Feb 2025   Prob (F-statistic):          1.23e-171\n",
      "Time:                        11:00:08   Log-Likelihood:                -372.31\n",
      "No. Observations:                 100   AIC:                             756.6\n",
      "Df Residuals:                      94   BIC:                             772.3\n",
      "Df Model:                           5                                         \n",
      "Covariance Type:            nonrobust                                         \n",
      "==========================================================================================\n",
      "                             coef    std err          t      P>|t|      [0.025      0.975]\n",
      "------------------------------------------------------------------------------------------\n",
      "const                    -15.2800      6.217     -2.458      0.016     -27.624      -2.935\n",
      "Building_Height           49.8898      0.079    628.588      0.000      49.732      50.047\n",
      "Material_Quality_Index    10.6560      0.519     20.541      0.000       9.626      11.686\n",
      "Labor_Cost                 0.5191      0.015     33.818      0.000       0.489       0.550\n",
      "Concrete_Strength         20.3084      0.115    177.325      0.000      20.081      20.536\n",
      "Foundation_Depth          30.0042      0.432     69.423      0.000      29.146      30.862\n",
      "==============================================================================\n",
      "Omnibus:                        1.217   Durbin-Watson:                   1.762\n",
      "Prob(Omnibus):                  0.544   Jarque-Bera (JB):                1.258\n",
      "Skew:                           0.186   Prob(JB):                        0.533\n",
      "Kurtosis:                       2.596   Cond. No.                     1.23e+03\n",
      "==============================================================================\n",
      "\n",
      "Notes:\n",
      "[1] Standard Errors assume that the covariance matrix of the errors is correctly specified.\n",
      "[2] The condition number is large, 1.23e+03. This might indicate that there are\n",
      "strong multicollinearity or other numerical problems.\n",
      "\n",
      "Equation of the multiple regression model:\n",
      "Construction Cost = -15.279974611553882 + 49.889810878431454 * Building_Height + 10.656038560888874 * Material_Quality_Index + 0.5190883553113763 * Labor_Cost + 20.30844200541096 * Concrete_Strength + 30.004213950015895 * Foundation_Depth\n",
      "\n",
      "Independent variable with the highest impact on Construction Cost: Building_Height\n"
     ]
    }
   ],
   "source": [
    "import pandas as pd\n",
    "import statsmodels.api as sm\n",
    "\n",
    "try:\n",
    "    df = pd.read_csv(\"construction_cost_data.csv\")\n",
    "except FileNotFoundError:\n",
    "    print(\"Error: 'construction_cost_data.csv' not found.\")\n",
    "    exit()\n",
    "\n",
    "X = df[['Building_Height', 'Material_Quality_Index', 'Labor_Cost', 'Concrete_Strength', 'Foundation_Depth']]\n",
    "y = df['Construction_Cost']\n",
    "X = sm.add_constant(X)\n",
    "model = sm.OLS(y, X).fit()\n",
    "\n",
    "print(model.summary())\n",
    "\n",
    "coefficients = model.params\n",
    "\n",
    "print(\"\\nEquation of the multiple regression model:\")\n",
    "equation = \"Construction Cost = \" + str(coefficients['const']) + \" + \"\n",
    "for i, col in enumerate(X.columns[1:]):\n",
    "    equation += str(coefficients[col]) + \" * \" + col + \" + \"\n",
    "equation = equation[:-3]\n",
    "print(equation)\n",
    "\n",
    "# Correct way to find the highest impact variable:\n",
    "abs_coeffs = abs(coefficients[X.columns[1:]])  # Get absolute coefficients, excluding the constant\n",
    "highest_impact_variable = abs_coeffs.idxmax() # Get the column name with the highest absolute coefficient\n",
    "\n",
    "print(\"\\nIndependent variable with the highest impact on Construction Cost:\", highest_impact_variable)"
   ]
  },
  {
   "cell_type": "code",
   "execution_count": null,
   "id": "18c1adc9-76ab-4e75-8623-c863278a3889",
   "metadata": {},
   "outputs": [],
   "source": []
  }
 ],
 "metadata": {
  "kernelspec": {
   "display_name": "Python [conda env:base] *",
   "language": "python",
   "name": "conda-base-py"
  },
  "language_info": {
   "codemirror_mode": {
    "name": "ipython",
    "version": 3
   },
   "file_extension": ".py",
   "mimetype": "text/x-python",
   "name": "python",
   "nbconvert_exporter": "python",
   "pygments_lexer": "ipython3",
   "version": "3.12.7"
  }
 },
 "nbformat": 4,
 "nbformat_minor": 5
}
