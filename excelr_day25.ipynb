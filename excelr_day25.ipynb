{
 "cells": [
  {
   "cell_type": "markdown",
   "id": "d867138d-46d9-43bd-99c1-37f94d310b12",
   "metadata": {},
   "source": [
    "Model Interpretation & Conclusion\n",
    "Summarize the key takeaways from your regression models.\n",
    "How can construction companies use regression analysis to estimate costs more effectively?\n",
    "What limitations did you encounter in this analysis?\n",
    "If you were to improve this model, what additional variables might you consider?\n",
    "How does regression analysis in civil engineering contribute to cost-effective planning?\n",
    "Provide a conclusion on the role of data science in optimizing construction project costs. "
   ]
  },
  {
   "cell_type": "code",
   "execution_count": 27,
   "id": "c84e0b15-998c-413e-9225-c11d92fe1e74",
   "metadata": {},
   "outputs": [
    {
     "name": "stdout",
     "output_type": "stream",
     "text": [
      "                            OLS Regression Results                            \n",
      "==============================================================================\n",
      "Dep. Variable:      Construction_Cost   R-squared:                       1.000\n",
      "Model:                            OLS   Adj. R-squared:                  1.000\n",
      "Method:                 Least Squares   F-statistic:                 7.593e+04\n",
      "Date:                Thu, 06 Feb 2025   Prob (F-statistic):          2.94e-169\n",
      "Time:                        11:17:41   Log-Likelihood:                -372.01\n",
      "No. Observations:                 100   AIC:                             758.0\n",
      "Df Residuals:                      93   BIC:                             776.3\n",
      "Df Model:                           6                                         \n",
      "Covariance Type:            nonrobust                                         \n",
      "==========================================================================================\n",
      "                             coef    std err          t      P>|t|      [0.025      0.975]\n",
      "------------------------------------------------------------------------------------------\n",
      "const                    -17.6374      6.972     -2.530      0.013     -31.482      -3.792\n",
      "Building_Height           49.8823      0.080    622.215      0.000      49.723      50.042\n",
      "Material_Quality_Index    10.7094      0.525     20.408      0.000       9.667      11.751\n",
      "Labor_Cost                 0.5197      0.015     33.734      0.000       0.489       0.550\n",
      "Concrete_Strength         20.3016      0.115    176.312      0.000      20.073      20.530\n",
      "Foundation_Depth          29.9854      0.434     69.106      0.000      29.124      30.847\n",
      "Weather_Index              0.4170      0.553      0.754      0.453      -0.681       1.515\n",
      "==============================================================================\n",
      "Omnibus:                        1.749   Durbin-Watson:                   1.764\n",
      "Prob(Omnibus):                  0.417   Jarque-Bera (JB):                1.667\n",
      "Skew:                           0.220   Prob(JB):                        0.435\n",
      "Kurtosis:                       2.546   Cond. No.                     1.38e+03\n",
      "==============================================================================\n",
      "\n",
      "Notes:\n",
      "[1] Standard Errors assume that the covariance matrix of the errors is correctly specified.\n",
      "[2] The condition number is large, 1.38e+03. This might indicate that there are\n",
      "strong multicollinearity or other numerical problems.\n",
      "                 Variable        VIF\n",
      "0                   const  45.335483\n",
      "1         Building_Height   1.063500\n",
      "2  Material_Quality_Index   1.067495\n",
      "3              Labor_Cost   1.056926\n",
      "4       Concrete_Strength   1.026027\n",
      "5        Foundation_Depth   1.044032\n",
      "6           Weather_Index   1.041601\n"
     ]
    }
   ],
   "source": [
    "import pandas as pd\n",
    "import statsmodels.api as sm\n",
    "from statsmodels.stats.outliers_influence import variance_inflation_factor\n",
    "\n",
    "# 4. Add a constant for the intercept term\n",
    "X = sm.add_constant(X)\n",
    "\n",
    "# 5. Fit the multiple linear regression model\n",
    "model = sm.OLS(y, X).fit()\n",
    "\n",
    "# 6. Calculate VIFs\n",
    "vif_data = pd.DataFrame()\n",
    "vif_data[\"Variable\"] = X.columns\n",
    "vif_data[\"VIF\"] = [variance_inflation_factor(X.values, i) for i in range(X.shape[1])]  # Use X.shape[1]\n",
    "\n",
    "# 7. Print the model summary and VIFs\n",
    "print(model.summary())\n",
    "print(vif_data)"
   ]
  },
  {
   "cell_type": "code",
   "execution_count": null,
   "id": "0182d05b-0b3a-45ea-896f-3ca22d4b63f4",
   "metadata": {},
   "outputs": [],
   "source": []
  }
 ],
 "metadata": {
  "kernelspec": {
   "display_name": "Python [conda env:base] *",
   "language": "python",
   "name": "conda-base-py"
  },
  "language_info": {
   "codemirror_mode": {
    "name": "ipython",
    "version": 3
   },
   "file_extension": ".py",
   "mimetype": "text/x-python",
   "name": "python",
   "nbconvert_exporter": "python",
   "pygments_lexer": "ipython3",
   "version": "3.12.7"
  }
 },
 "nbformat": 4,
 "nbformat_minor": 5
}
