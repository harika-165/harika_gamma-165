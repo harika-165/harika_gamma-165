{
 "cells": [
  {
   "cell_type": "markdown",
   "id": "2eb6392c-0285-47a0-b58f-a0e41cfe2005",
   "metadata": {},
   "source": [
    "#Create a List, tuple and Dictionary with 5 elements in it and how to access few elements based on the index. Try with different examples"
   ]
  },
  {
   "cell_type": "code",
   "execution_count": 8,
   "id": "4d75de1e-8d94-44b1-ba98-a8e47df2e75b",
   "metadata": {},
   "outputs": [
    {
     "name": "stdout",
     "output_type": "stream",
     "text": [
      "Accessing element at index 2 in List: 30\n",
      "Accessing element at index 4 in Tuple: 500\n",
      "Accessing the last element of List: 50\n",
      "Accessing the second last element in Tuple: 400\n",
      "Accessing value for 'apple' in Dictionary: 1\n",
      "Accessing value for 'cherry' in Dictionary: 3\n",
      "Slicing elements from index 1 to 3 in List: [20, 30, 40]\n",
      "Slicing elements from index 0 to 2 in Tuple: (100, 200, 300)\n"
     ]
    }
   ],
   "source": [
    "list1 = [10, 20, 30, 40, 50] \n",
    "tuple1 = (100, 200, 300, 400, 500) \n",
    "dict1 = {\"apple\": 1, \"banana\": 2, \"cherry\": 3, \"date\": 4, \"elderberry\": 5} \n",
    "print(f\"Accessing element at index 2 in List: {list1[2]}\")\n",
    "print(f\"Accessing element at index 4 in Tuple: {tuple1[4]}\")\n",
    "print(f\"Accessing the last element of List: {list1[-1]}\")\n",
    "print(f\"Accessing the second last element in Tuple: {tuple1[-2]}\")\n",
    "print(f\"Accessing value for 'apple' in Dictionary: {dict1['apple']}\")\n",
    "print(f\"Accessing value for 'cherry' in Dictionary: {dict1['cherry']}\") \n",
    "print(f\"Slicing elements from index 1 to 3 in List: {list1[1:4]}\")\n",
    "print(f\"Slicing elements from index 0 to 2 in Tuple: {tuple1[:3]}\")"
   ]
  },
  {
   "cell_type": "code",
   "execution_count": null,
   "id": "0388637c-5896-4206-9aea-77e101b6b130",
   "metadata": {},
   "outputs": [],
   "source": []
  }
 ],
 "metadata": {
  "kernelspec": {
   "display_name": "Python [conda env:base] *",
   "language": "python",
   "name": "conda-base-py"
  },
  "language_info": {
   "codemirror_mode": {
    "name": "ipython",
    "version": 3
   },
   "file_extension": ".py",
   "mimetype": "text/x-python",
   "name": "python",
   "nbconvert_exporter": "python",
   "pygments_lexer": "ipython3",
   "version": "3.12.7"
  }
 },
 "nbformat": 4,
 "nbformat_minor": 5
}
