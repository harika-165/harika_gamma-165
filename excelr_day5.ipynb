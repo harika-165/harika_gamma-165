{
 "cells": [
  {
   "cell_type": "markdown",
   "id": "ebb8684b-ef08-4d73-9d10-1fddca2a5ec1",
   "metadata": {},
   "source": [
    "#1)Write a Python program that performs the following tasks:\n",
    "   1. Ask the user to enter a positive integer `n`.\n",
    "   2. Use a `for` loop to print all numbers from `1` to `n` on separate lines.\n",
    "   3. Use a `while` loop to calculate the sum of all numbers from `1` to `n` and print the result."
   ]
  },
  {
   "cell_type": "code",
   "execution_count": 2,
   "id": "63d4b620-c3e2-45ae-8bd8-d0c15f8e0554",
   "metadata": {},
   "outputs": [
    {
     "name": "stdin",
     "output_type": "stream",
     "text": [
      "Enter a positive integer:  22\n"
     ]
    },
    {
     "name": "stdout",
     "output_type": "stream",
     "text": [
      "Numbers from 1 to 22 using a for loop:\n",
      "1\n",
      "2\n",
      "3\n",
      "4\n",
      "5\n",
      "6\n",
      "7\n",
      "8\n",
      "9\n",
      "10\n",
      "11\n",
      "12\n",
      "13\n",
      "14\n",
      "15\n",
      "16\n",
      "17\n",
      "18\n",
      "19\n",
      "20\n",
      "21\n",
      "22\n",
      "The sum of numbers from 1 to 22 is: 253\n"
     ]
    }
   ],
   "source": [
    "n = int(input(\"Enter a positive integer: \"))\n",
    "print(\"Numbers from 1 to\", n, \"using a for loop:\")\n",
    "for i in range(1, n + 1):\n",
    "    print(i)\n",
    "sum_of_numbers = 0\n",
    "i = 1\n",
    "while i <= n:\n",
    "    sum_of_numbers += i\n",
    "    i += 1\n",
    "print(f\"The sum of numbers from 1 to {n} is: {sum_of_numbers}\")\n"
   ]
  },
  {
   "cell_type": "markdown",
   "id": "43d1ed60-f989-40fa-968c-23a536db1caf",
   "metadata": {},
   "source": [
    "#2)Write a Python program that includes a user-defined function to perform the following tasks:\n",
    "   1. Define a function named calculate_square that takes a single argument `n` and returns the         square of `n`.\n",
    "   2. In the main program, ask the user to input a positive integer.\n",
    "   3. Call the calculate_square function with the user-provided number and display the result."
   ]
  },
  {
   "cell_type": "code",
   "execution_count": 4,
   "id": "4d75de1e-8d94-44b1-ba98-a8e47df2e75b",
   "metadata": {},
   "outputs": [
    {
     "name": "stdin",
     "output_type": "stream",
     "text": [
      "Enter a positive integer:  24\n"
     ]
    },
    {
     "name": "stdout",
     "output_type": "stream",
     "text": [
      "The square of 24 is: 576\n"
     ]
    }
   ],
   "source": [
    "def calculate_square(n):\n",
    "    return n ** 2\n",
    "try:\n",
    "    n = int(input(\"Enter a positive integer: \"))\n",
    "    if n < 0:\n",
    "        print(\"Please enter a positive integer.\")\n",
    "    else:\n",
    "        result = calculate_square(n)\n",
    "        print(f\"The square of {n} is: {result}\")\n",
    "except ValueError:\n",
    "    print(\"Invalid input. Please enter a valid positive integer.\")\n"
   ]
  },
  {
   "cell_type": "code",
   "execution_count": null,
   "id": "0388637c-5896-4206-9aea-77e101b6b130",
   "metadata": {},
   "outputs": [],
   "source": []
  }
 ],
 "metadata": {
  "kernelspec": {
   "display_name": "Python [conda env:base] *",
   "language": "python",
   "name": "conda-base-py"
  },
  "language_info": {
   "codemirror_mode": {
    "name": "ipython",
    "version": 3
   },
   "file_extension": ".py",
   "mimetype": "text/x-python",
   "name": "python",
   "nbconvert_exporter": "python",
   "pygments_lexer": "ipython3",
   "version": "3.12.7"
  }
 },
 "nbformat": 4,
 "nbformat_minor": 5
}
