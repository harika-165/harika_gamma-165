{
 "cells": [
  {
   "cell_type": "markdown",
   "id": "3fcded68-1440-48ff-88a0-0e16aaf1c8ea",
   "metadata": {},
   "source": [
    "Assignment 2: Cleaning and Preparing a Travel Customer Reviews Dataset\n",
    "Objective:\n",
    "To clean and prepare a dataset containing customer reviews of travel experiences.\n",
    "Instructions:\n",
    "Load the dataset containing customer reviews, ratings, and feedback.\n",
    "Handle missing values:\n",
    "Identify missing values in Review_Text, Rating, and Customer_Age.\n",
    "Impute missing numerical values using appropriate techniques.\n",
    "Use NLP-based techniques to handle missing textual data.\n",
    "Detect and remove duplicates:\n",
    "Use duplicated() to find repeated reviews.\n",
    "Remove or merge duplicate records.\n",
    "Handle inconsistent data:\n",
    "Standardize Rating values (ensure they range between 1-5).\n",
    "Correct spelling inconsistencies in Tour_Package names.\n",
    "Identify and handle outliers:\n",
    "Use boxplots to find anomalies in Package_Price and Rating.\n",
    "Apply transformation techniques if necessary.\n",
    "Prepare cleaned data for analysis:\n",
    "Convert categorical data into numerical format where required.\n",
    "Save the final cleaned dataset as a CSV file."
   ]
  },
  {
   "cell_type": "code",
   "execution_count": 5,
   "id": "9307bd6f-8aac-4fe3-ba03-1a7f1b5a43f1",
   "metadata": {},
   "outputs": [
    {
     "name": "stdout",
     "output_type": "stream",
     "text": [
      "Requirement already satisfied: pyspellchecker in c:\\users\\dhari\\anaconda3\\lib\\site-packages (0.8.2)\n"
     ]
    }
   ],
   "source": [
    "!pip install pyspellchecker"
   ]
  },
  {
   "cell_type": "code",
   "execution_count": 9,
   "id": "a6f9aaca-9f9c-4c1c-b23f-cf6ae6ddc97d",
   "metadata": {},
   "outputs": [
    {
     "name": "stderr",
     "output_type": "stream",
     "text": [
      "[nltk_data] Downloading package punkt_tab to\n",
      "[nltk_data]     C:\\Users\\dhari\\AppData\\Roaming\\nltk_data...\n",
      "[nltk_data]   Unzipping tokenizers\\punkt_tab.zip.\n"
     ]
    },
    {
     "data": {
      "text/plain": [
       "True"
      ]
     },
     "execution_count": 9,
     "metadata": {},
     "output_type": "execute_result"
    }
   ],
   "source": [
    "import nltk\n",
    "nltk.download('punkt_tab') "
   ]
  },
  {
   "cell_type": "code",
   "execution_count": 11,
   "id": "a3c4889c-4dc1-4ba6-b66d-12eb7adad33d",
   "metadata": {},
   "outputs": [
    {
     "name": "stdout",
     "output_type": "stream",
     "text": [
      "Booking_ID        0\n",
      "Destination      27\n",
      "Package_Price    20\n",
      "Customer_Age     15\n",
      "Rating           25\n",
      "Review_Text      20\n",
      "Travel_Date      10\n",
      "dtype: int64\n"
     ]
    },
    {
     "name": "stderr",
     "output_type": "stream",
     "text": [
      "C:\\Users\\dhari\\AppData\\Local\\Temp\\ipykernel_25440\\488797189.py:36: FutureWarning: A value is trying to be set on a copy of a DataFrame or Series through chained assignment using an inplace method.\n",
      "The behavior will change in pandas 3.0. This inplace method will never work because the intermediate object on which we are setting values always behaves as a copy.\n",
      "\n",
      "For example, when doing 'df[col].method(value, inplace=True)', try using 'df.method({col: value}, inplace=True)' or df[col] = df[col].method(value) instead, to perform the operation inplace on the original object.\n",
      "\n",
      "\n",
      "  df['Review_Text'].fillna('', inplace=True)  # Fill with empty string initially\n"
     ]
    },
    {
     "name": "stdout",
     "output_type": "stream",
     "text": [
      "5\n"
     ]
    },
    {
     "data": {
      "image/png": "[encoded data removed]",
      "text/plain": [
       "<Figure size 1000x500 with 2 Axes>"
      ]
     },
     "metadata": {},
     "output_type": "display_data"
    },
    {
     "name": "stdout",
     "output_type": "stream",
     "text": [
      "Cleaned dataset saved to cleaned_travel_reviews.csv\n",
      "   Booking_ID Destination  Package_Price  Customer_Age  Rating  \\\n",
      "0           1      London         1094.0          21.0     NaN   \n",
      "1           2       Paris          640.0          20.0     NaN   \n",
      "2           3   Singapore         3393.0          42.0     3.0   \n",
      "3           4      London         3555.0          40.0     4.0   \n",
      "4           5       Dubai         2130.0          44.0     2.0   \n",
      "\n",
      "          Review_Text Travel_Date  \n",
      "0  amazing experience  2023-01-01  \n",
      "1          loved trip  2023-01-02  \n",
      "2        could better  2023-01-03  \n",
      "3  amazing experience  2023-01-04  \n",
      "4  highly recommended  2023-01-05  \n"
     ]
    }
   ],
   "source": [
    "import pandas as pd\n",
    "import numpy as np\n",
    "import re\n",
    "from sklearn.impute import SimpleImputer\n",
    "import nltk\n",
    "from nltk.corpus import stopwords\n",
    "from nltk.tokenize import word_tokenize\n",
    "from spellchecker import SpellChecker\n",
    "import matplotlib.pyplot as plt\n",
    "import seaborn as sns\n",
    "\n",
    "# Download necessary NLTK resources (do this once)\n",
    "try:\n",
    "    nltk.data.find('corpora/stopwords')\n",
    "except LookupError:\n",
    "    nltk.download('stopwords')\n",
    "try:\n",
    "    nltk.data.find('tokenizers/punkt')\n",
    "except LookupError:\n",
    "    nltk.download('punkt')\n",
    "\n",
    "# 1. Load the dataset\n",
    "df = pd.read_csv(\"Tours_and_Travels.csv\", encoding='unicode_escape')  # Replace with your dataset filename and handle encoding\n",
    "\n",
    "# 2. Handle missing values\n",
    "# Identify missing values\n",
    "print(df.isnull().sum())\n",
    "\n",
    "# Impute missing numerical values (Customer_Age - if it exists)\n",
    "if 'Customer_Age' in df.columns:  # Check if the column exists before imputing\n",
    "    imputer_age = SimpleImputer(strategy='mean')  # Or 'median'\n",
    "    df['Customer_Age'] = imputer_age.fit_transform(df[['Customer_Age']])\n",
    "\n",
    "# Handle missing textual data (Review_Text, if it exists) using NLP\n",
    "if 'Review_Text' in df.columns:\n",
    "    df['Review_Text'].fillna('', inplace=True)  # Fill with empty string initially\n",
    "\n",
    "    def preprocess_text(text):\n",
    "        text = text.lower()  # Lowercasing\n",
    "        text = re.sub(r'[^\\w\\s]', '', text)  # Remove punctuation\n",
    "        tokens = word_tokenize(text)  # Tokenization\n",
    "        stop_words = set(stopwords.words('english'))\n",
    "        tokens = [w for w in tokens if not w in stop_words]  # Remove stopwords\n",
    "        return \" \".join(tokens)\n",
    "\n",
    "    df['Review_Text'] = df['Review_Text'].apply(preprocess_text)\n",
    "\n",
    "# 3. Detect and remove duplicates\n",
    "print(df.duplicated().sum())  # Check for duplicates\n",
    "df.drop_duplicates(inplace=True)  # Remove duplicates\n",
    "\n",
    "# 4. Handle inconsistent data\n",
    "# Standardize Rating values (if it exists)\n",
    "if 'Rating' in df.columns:\n",
    "    df['Rating'] = df['Rating'].clip(1, 5)  # Ensure rating is between 1 and 5\n",
    "\n",
    "if 'Tour_Package' in df.columns:\n",
    "    spell = SpellChecker()\n",
    "\n",
    "    def correct_spelling(text):\n",
    "        if isinstance(text, str):  # Check if it's a string before correcting\n",
    "            corrected_text = []\n",
    "            for word in text.split():\n",
    "                corrected_word = spell.correction(word)\n",
    "                corrected_text.append(corrected_word)\n",
    "            return \" \".join(corrected_text)\n",
    "        else:\n",
    "            return text # Return original if it's not a string\n",
    "\n",
    "    df['Tour_Package'] = df['Tour_Package'].apply(correct_spelling)\n",
    "\n",
    "\n",
    "# 5. Identify and handle outliers\n",
    "# Boxplots for Package_Price and Rating (if they exist)\n",
    "if 'Package_Price' in df.columns and 'Rating' in df.columns:\n",
    "    plt.figure(figsize=(10, 5))\n",
    "    plt.subplot(1, 2, 1)\n",
    "    sns.boxplot(y=df['Package_Price'])\n",
    "    plt.title('Package Price Boxplot')\n",
    "\n",
    "    plt.subplot(1, 2, 2)\n",
    "    sns.boxplot(y=df['Rating'])\n",
    "    plt.title('Rating Boxplot')\n",
    "    plt.show()\n",
    "    Q1 = df['Package_Price'].quantile(0.25)\n",
    "    Q3 = df['Package_Price'].quantile(0.75)\n",
    "    IQR = Q3 - Q1\n",
    "    upper_bound = Q3 + 1.5 * IQR\n",
    "    df['Package_Price'] = np.where(df['Package_Price'] > upper_bound, upper_bound, df['Package_Price'])\n",
    "\n",
    "\n",
    "# 6. Prepare cleaned data for analysis\n",
    "# Convert categorical data (Tour_Package, if it exists) to numerical using one-hot encoding\n",
    "if 'Tour_Package' in df.columns:\n",
    "    df = pd.get_dummies(df, columns=['Tour_Package'], prefix='Tour_Package')  # Example, adapt as needed\n",
    "\n",
    "# 7. Save the final cleaned dataset\n",
    "df.to_csv(\"cleaned_travel_reviews.csv\", index=False)\n",
    "\n",
    "print(\"Cleaned dataset saved to cleaned_travel_reviews.csv\")\n",
    "print(df.head())  # Display the first few rows of the cleaned data"
   ]
  },
  {
   "cell_type": "code",
   "execution_count": null,
   "id": "4637b510-0cbf-4677-a1b6-ffc26e891898",
   "metadata": {},
   "outputs": [],
   "source": []
  }
 ],
 "metadata": {
  "kernelspec": {
   "display_name": "Python [conda env:base] *",
   "language": "python",
   "name": "conda-base-py"
  },
  "language_info": {
   "codemirror_mode": {
    "name": "ipython",
    "version": 3
   },
   "file_extension": ".py",
   "mimetype": "text/x-python",
   "name": "python",
   "nbconvert_exporter": "python",
   "pygments_lexer": "ipython3",
   "version": "3.12.7"
  }
 },
 "nbformat": 4,
 "nbformat_minor": 5
}
